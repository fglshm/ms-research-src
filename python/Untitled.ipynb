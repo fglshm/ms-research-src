{
 "cells": [
  {
   "cell_type": "code",
   "execution_count": null,
   "metadata": {},
   "outputs": [
    {
     "name": "stderr",
     "output_type": "stream",
     "text": [
      "  0%|          | 1/507 [00:09<1:24:11,  9.98s/it]"
     ]
    }
   ],
   "source": [
    "\"\"\"\n",
    "    文の類似度を求める\n",
    "    1. 単語数\n",
    "    2. n-grams\n",
    "    3. 疑問文か平叙文\n",
    "    4. 形態素の出現頻度\n",
    "    5. 形態素の並び\n",
    "    6. 係り受け関係\n",
    "\"\"\"\n",
    "\n",
    "from preprocessor import preprocess\n",
    "from nlp import NLP\n",
    "import numpy as np\n",
    "import matplotlib.pyplot as plt\n",
    "import glob\n",
    "import os\n",
    "from tqdm import tqdm\n",
    "\n",
    "\n",
    "def word_count_similarity(path, speech_type, speech_id):\n",
    "    \"\"\"\n",
    "        1文同士の類似度を, 1文の単語数に着目して計算する\n",
    "        non-similarity = t番目の文の単語数 / (t-1)番目の文の単語数\n",
    "        non-similarityをsin波のように出力する\n",
    "        non-similarityの値が大きいほど類似度は低い\n",
    "        y軸: similarity\n",
    "        x軸: 文の番号\n",
    "    \"\"\"\n",
    "    file_path = f\"{path}/{speech_type}/{speech_id}.txt\"\n",
    "    sentences = preprocess(file_path)\n",
    "    nlp = NLP()\n",
    "    tokens_list = [nlp.rm(nlp.tokens(s)) for s in sentences]\n",
    "    word_counts = [len(token) for token in tokens_list]\n",
    "    if 0 in word_counts:\n",
    "        word_counts.remove(0)\n",
    "    similarities = [0.0]\n",
    "    for idx in range(len(word_counts) - 1):\n",
    "        sim = round(int(word_counts[idx]) / int(word_counts[idx - 1]), 2)\n",
    "        similarities.append(sim)\n",
    "\n",
    "        x = np.array(similarities)\n",
    "        y = np.arange(x.shape[0])\n",
    "        color = \"blue\" if speech_type == \"so\" else \"red\"\n",
    "        plt.title(f\"speech {speech_id} sentence non-similarity about word count\")\n",
    "        plt.xlabel(\"sentence\")\n",
    "        plt.ylabel(\"non-similarity\")\n",
    "        plt.plot(y, x, color=color)\n",
    "        save_path = (\n",
    "            \"/Users/shohei/Documents/Tsukuba/Research/results/similarity/word_count\"\n",
    "        )\n",
    "        figure = plt.gcf()\n",
    "        figure.set_size_inches(20, 10)\n",
    "        plt.savefig(\n",
    "            f\"{save_path}/{speech_type}/{speech_type}_{speech_id}.eps\", format=\"eps\"\n",
    "        )\n",
    "        similarities = []\n",
    "        plt.clf()\n",
    "\n",
    "\n",
    "speech_types = [\"so\", \"nso\"]\n",
    "path = \"/Users/shohei/Tsukuba/tsukuba/research/master/data/speech_original_transcripts\"\n",
    "for speech_type in speech_types:\n",
    "    files = glob.glob(f\"{path}/{speech_type}/*\")\n",
    "    for file in tqdm(files):\n",
    "        speech_id = os.path.basename(file).split(\".\")[0]\n",
    "        word_count_similarity(path, speech_type, speech_id)\n",
    "\n"
   ]
  },
  {
   "cell_type": "code",
   "execution_count": null,
   "metadata": {},
   "outputs": [],
   "source": []
  }
 ],
 "metadata": {
  "kernelspec": {
   "display_name": "Python 3",
   "language": "python",
   "name": "python3"
  },
  "language_info": {
   "codemirror_mode": {
    "name": "ipython",
    "version": 3
   },
   "file_extension": ".py",
   "mimetype": "text/x-python",
   "name": "python",
   "nbconvert_exporter": "python",
   "pygments_lexer": "ipython3",
   "version": "3.7.4"
  }
 },
 "nbformat": 4,
 "nbformat_minor": 2
}
